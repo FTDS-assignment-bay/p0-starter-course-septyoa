{
 "cells": [
  {
   "cell_type": "code",
   "execution_count": null,
   "metadata": {},
   "outputs": [],
   "source": [
    "#NGC2 : Python Function, Conditional, and Loop"
   ]
  },
  {
   "cell_type": "markdown",
   "metadata": {},
   "source": [
    "Task 1 - Number of Words\n",
    "Instruction:\n",
    "    1. Create a function called 'number_of_word'\n",
    "    2. This fuction takes 1 input, 'sentence'\n",
    "    3. Inside this function, you can utilize '.split()' method to split sentences to list of word(s)\n",
    "    4. Also, 'len()' function to count the element inside a list\n",
    "    5. Return the number of word from the sentence"
   ]
  },
  {
   "cell_type": "markdown",
   "metadata": {},
   "source": [
    "Task 2 - Find Multiple\n",
    "Instruction:\n",
    "    1. Create a function called 'find_multiples'\n",
    "    2. This function takes 3 input: 'start_range', 'end_range', and 'multiple'\n",
    "    3. From every number within the given range, check if that number is the multiples of \"multiple\"\n",
    "    4. Return list of the the possible multiple number(s) "
   ]
  },
  {
   "cell_type": "markdown",
   "metadata": {},
   "source": [
    "Task 3 - Grade Converter\n",
    "Instruction:\n",
    "    1. Create function called 'Grade_Converter'\n",
    "    2. This function takes input: 'covert_to' and n-paired of student(s) name with its respective score\n",
    "    3. Input argument for 'convert_to' is either 'letter_grade' or 'gpa'\n",
    "    4. You can utilize **Kwargs input argument to generate n-length paired of student(s) name with its respective score (Dictionary)\n",
    "    5. This function return dictionary of student's name along with converted letter grade or GPA, depending on user input in 'convert_to' parameter\n"
   ]
  },
  {
   "cell_type": "markdown",
   "metadata": {},
   "source": [
    "Task 4 - Fibonacci Sequence\n",
    "Instruction:\n",
    "    1. The function will take 1 input parameter, n, represents the asked number from our fibonacci sequence index.\n",
    "    2. The Fibonacci sequence will start with the value of 0 and 1.\n",
    "    3. This function will return the n-th value from Fibonacci sequence"
   ]
  }
 ],
 "metadata": {
  "language_info": {
   "name": "python"
  }
 },
 "nbformat": 4,
 "nbformat_minor": 2
}
