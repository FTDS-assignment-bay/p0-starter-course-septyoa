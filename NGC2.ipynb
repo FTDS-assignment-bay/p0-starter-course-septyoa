{
 "cells": [
  {
   "cell_type": "code",
   "execution_count": null,
   "metadata": {},
   "outputs": [],
   "source": [
    "#NGC2 : Python Function, Conditional, and Loop"
   ]
  },
  {
   "cell_type": "markdown",
   "metadata": {},
   "source": [
    "Task 1 - Number of Words\n",
    "Instruction:\n",
    "    1. Create a function called 'number_of_word'\n",
    "    2. This fuction takes 1 input, 'sentence'\n",
    "    3. Inside this function, you can utilize '.split()' method to split sentences to list of word(s)\n",
    "    4. Also, 'len()' function to count the element inside a list\n",
    "    5. Return the number of word from the sentence"
   ]
  },
  {
   "cell_type": "code",
   "execution_count": 14,
   "metadata": {},
   "outputs": [],
   "source": [
    "#Task 1\n",
    "def number_of_word(sentence):\n",
    "    pisah=sentence.split()\n",
    "    return(len(pisah))\n",
    "    "
   ]
  },
  {
   "cell_type": "code",
   "execution_count": 19,
   "metadata": {},
   "outputs": [
    {
     "name": "stdout",
     "output_type": "stream",
     "text": [
      "7\n",
      "1\n"
     ]
    }
   ],
   "source": [
    "#Test func Task1\n",
    "print(number_of_word(\"coba kita test apakah semua akan berhasil\"))\n",
    "print(number_of_word(\"hohohhihiheheiehiehhah\"))"
   ]
  },
  {
   "cell_type": "markdown",
   "metadata": {},
   "source": [
    "Task 2 - Find Multiple\n",
    "Instruction:\n",
    "    1. Create a function called 'find_multiples'\n",
    "    2. This function takes 3 input: 'start_range', 'end_range', and 'multiple'\n",
    "    3. From every number within the given range, check if that number is the multiples of \"multiple\"\n",
    "    4. Return list of the the possible multiple number(s) "
   ]
  },
  {
   "cell_type": "code",
   "execution_count": 63,
   "metadata": {},
   "outputs": [],
   "source": [
    "#Task 2\n",
    "def find_multiples(start_range, end_range, multiple):\n",
    "    for n in range(start_range, end_range + multiple, multiple):\n",
    "        if n == 1: continue\n",
    "        print(n-1)\n",
    "    "
   ]
  },
  {
   "cell_type": "code",
   "execution_count": 64,
   "metadata": {},
   "outputs": [
    {
     "name": "stdout",
     "output_type": "stream",
     "text": [
      "10\n",
      "20\n",
      "30\n",
      "40\n",
      "50\n"
     ]
    }
   ],
   "source": [
    "find_multiples(1,50,10)"
   ]
  },
  {
   "cell_type": "markdown",
   "metadata": {},
   "source": [
    "Task 3 - Grade Converter\n",
    "Instruction:\n",
    "    1. Create function called 'Grade_Converter'\n",
    "    2. This function takes input: 'covert_to' and n-paired of student(s) name with its respective score\n",
    "    3. Input argument for 'convert_to' is either 'letter_grade' or 'gpa'\n",
    "    4. You can utilize **Kwargs input argument to generate n-length paired of student(s) name with its respective score (Dictionary)\n",
    "    5. This function return dictionary of student's name along with converted letter grade or GPA, depending on user input in 'convert_to' parameter\n"
   ]
  },
  {
   "cell_type": "code",
   "execution_count": 225,
   "metadata": {},
   "outputs": [
    {
     "name": "stdout",
     "output_type": "stream",
     "text": [
      "Albert : F\n",
      "Dwi : B\n",
      "Syahdan : D\n"
     ]
    }
   ],
   "source": [
    "def Grade_Converter(convert_to, **kwargs):\n",
    "    for key, value in kwargs.items():\n",
    "        if convert_to == \"letter_grade\":\n",
    "            if 85<= value <=100: print(key,\":\",\"A\")\n",
    "            if 70<= value < 85 : print(key,\":\",\"B\")\n",
    "            if 60<= value < 70 : print(key,\":\",\"C\")\n",
    "            if 50<= value < 60 : print(key,\":\",\"D\") \n",
    "            if 40<= value < 50 : print(key,\":\",\"E\")\n",
    "            if value <40 : print(key,\":\",\"F\")\n",
    "        if convert_to == \"gpa\":\n",
    "            if 85<= value <=100: print(key,\":\",\"4\")\n",
    "            if 70<= value < 85 : print(key,\":\",\"3\")\n",
    "            if 60<= value < 70 : print(key,\":\",\"2.5\")\n",
    "            if 50<= value < 60 : print(key,\":\",\"2\") \n",
    "            if 40<= value < 50 : print(key,\":\",\"1.5\")\n",
    "            if value <40 : print(key,\":\",\"1\")\n",
    "        \n",
    "Grade_Converter(\"letter_grade\", Albert=25, Dwi= 82, Syahdan=58)\n",
    "    "
   ]
  },
  {
   "cell_type": "code",
   "execution_count": 158,
   "metadata": {},
   "outputs": [],
   "source": [
    "def Grade_Converter(convert_to, **kwargs):\n",
    "    if convert_to == \"letter_grade\":\n",
    "        for key, value in kwargs.items():\n",
    "            if 85<= value <=100: return \"A\"\n",
    "            if 70<= value < 85 : return \"B\"\n",
    "            if 60<= value < 70 : return \"C\"\n",
    "            if 50<= value < 60 : return \"D\" \n",
    "            if 40<= value < 50 : return \"E\"\n",
    "            if value <40 : return \"F\"\n",
    "    if convert_to == \"gpa\":\n",
    "        for key, value in kwargs.items():\n",
    "            if 85<= value <=100: return \"4\"\n",
    "            if 70<= value < 85 : return \"3\"\n",
    "            if 60<= value < 70 : return \"2.5\"\n",
    "            if 50<= value < 60 : return \"2\" \n",
    "            if 40<= value < 50 : return \"1.5\"\n",
    "            if value <40 : return \"1\"\n",
    "    \n",
    "        print(key, \":\", value)\n",
    "            "
   ]
  },
  {
   "cell_type": "code",
   "execution_count": 159,
   "metadata": {},
   "outputs": [
    {
     "data": {
      "text/plain": [
       "'F'"
      ]
     },
     "execution_count": 159,
     "metadata": {},
     "output_type": "execute_result"
    }
   ],
   "source": [
    "Grade_Converter(\"letter_grade\", Albert=25, Dwi=82, Syahdan=58)"
   ]
  },
  {
   "cell_type": "code",
   "execution_count": 193,
   "metadata": {},
   "outputs": [
    {
     "name": "stdout",
     "output_type": "stream",
     "text": [
      "25\n",
      "Albert : A\n",
      "82\n",
      "58\n"
     ]
    }
   ],
   "source": [
    "def Grade_Converter(convert_to, **kwargs):\n",
    "    for key, value in kwargs.items():\n",
    "        print (value)\n",
    "        if value < 50 : print (key,\":\",\"A\")\n",
    "            \n",
    "        \n",
    "\n",
    "Grade_Converter(\"gpa\", Albert=25, Dwi= 82, Syahdan=58)"
   ]
  },
  {
   "cell_type": "markdown",
   "metadata": {},
   "source": [
    "Task 4 - Fibonacci Sequence\n",
    "Instruction:\n",
    "    1. The function will take 1 input parameter, n, represents the asked number from our fibonacci sequence index.\n",
    "    2. The Fibonacci sequence will start with the value of 0 and 1.\n",
    "    3. This function will return the n-th value from Fibonacci sequence"
   ]
  },
  {
   "cell_type": "code",
   "execution_count": 284,
   "metadata": {},
   "outputs": [
    {
     "name": "stdout",
     "output_type": "stream",
     "text": [
      "89\n"
     ]
    }
   ],
   "source": [
    "def deret_ke(n):\n",
    "    f=[0,1]\n",
    "    for i in range(2,n+1):\n",
    "        f.append(f[i-1]+f[i-2])\n",
    "    if n > 0 : print(f[-1])\n",
    "    elif n == 0 : print(f[0])\n",
    "\n",
    "deret_ke(11)"
   ]
  },
  {
   "cell_type": "code",
   "execution_count": null,
   "metadata": {},
   "outputs": [],
   "source": []
  }
 ],
 "metadata": {
  "kernelspec": {
   "display_name": "Python 3",
   "language": "python",
   "name": "python3"
  },
  "language_info": {
   "codemirror_mode": {
    "name": "ipython",
    "version": 3
   },
   "file_extension": ".py",
   "mimetype": "text/x-python",
   "name": "python",
   "nbconvert_exporter": "python",
   "pygments_lexer": "ipython3",
   "version": "3.11.5"
  }
 },
 "nbformat": 4,
 "nbformat_minor": 2
}
