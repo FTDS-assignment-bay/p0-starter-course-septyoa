{
 "cells": [
  {
   "cell_type": "code",
   "execution_count": 3,
   "metadata": {},
   "outputs": [
    {
     "name": "stdout",
     "output_type": "stream",
     "text": [
      "720\n"
     ]
    }
   ],
   "source": [
    "def calories_burned(duration, exercise):\n",
    "    if exercise == \"berlari\": print(duration*10)\n",
    "    if exercise == \"bersepeda\": print(duration*8)\n",
    "    if exercise == \"berenang\": print(duration*12)\n",
    "\n",
    "calories_burned(60, \"berenang\")"
   ]
  }
 ],
 "metadata": {
  "kernelspec": {
   "display_name": "Python 3",
   "language": "python",
   "name": "python3"
  },
  "language_info": {
   "codemirror_mode": {
    "name": "ipython",
    "version": 3
   },
   "file_extension": ".py",
   "mimetype": "text/x-python",
   "name": "python",
   "nbconvert_exporter": "python",
   "pygments_lexer": "ipython3",
   "version": "3.11.5"
  }
 },
 "nbformat": 4,
 "nbformat_minor": 2
}
