{
  "nbformat": 4,
  "nbformat_minor": 0,
  "metadata": {
    "colab": {
      "provenance": [],
      "include_colab_link": true
    },
    "kernelspec": {
      "name": "python3",
      "display_name": "Python 3"
    },
    "language_info": {
      "name": "python"
    }
  },
  "cells": [
    {
      "cell_type": "markdown",
      "metadata": {
        "id": "view-in-github",
        "colab_type": "text"
      },
      "source": [
        "<a href=\"https://colab.research.google.com/github/FTDS-assignment-bay/p0-starter-course-septyoa/blob/main/Latihan_LC1_P0.ipynb\" target=\"_parent\"><img src=\"https://colab.research.google.com/assets/colab-badge.svg\" alt=\"Open In Colab\"/></a>"
      ]
    },
    {
      "cell_type": "markdown",
      "source": [
        "#### 1. Buatlah fungsi untuk menghitung `jumlah kalori terbakar` berdasarkan `jenis kegiatan` dan `durasi dalam menit`, dengan ketentuan di bawah:\n",
        "\n",
        "<div align=\"center\">\n",
        "\n",
        "|Kegiatan|Kalori Terbakar per Menit|\n",
        "|--|--|\n",
        "|Berlari|10|\n",
        "|Bersepeda|8|\n",
        "|Berenang|12|\n",
        "\n",
        "\n",
        "</div>\n",
        "\n",
        "contoh:\n",
        "```\n",
        ">>> input: calories_burned(duration=60, exercise='berenang')\n",
        ">>> output: 720\n",
        "\n",
        ">>> input: calories_burned(duration=15, exercise='berlari')\n",
        ">>> output: 150\n",
        "\n",
        ">>> input:calories_burned(duration=20, exercise='bersepeda')\n",
        ">>> output: 160\n",
        "```"
      ],
      "metadata": {
        "id": "lCHIkZZHY7w9"
      }
    },
    {
      "cell_type": "code",
      "source": [
        "# code here"
      ],
      "metadata": {
        "id": "ExBJkWTq3yE3"
      },
      "execution_count": null,
      "outputs": []
    },
    {
      "cell_type": "markdown",
      "source": [
        "#### 2. Buat function untuk menghitung `total kalori terbakar` dari `beberapa sesi latihan`, manfaatkan fungsi yang telah dibuat sebelumnya di dalam function ini.\n",
        "\n",
        "Notes:\n",
        "- Dalam kasus ini diasumsikan setiap sesi latihan memiliki durasi yang sama (`each_session_duration`).\n",
        "- Function yang dibuat memiliki input argumen berupa: `n-length jenis latihan yang dilakukan di setiap sesinya` dan `each_session_duration`\n",
        "- Manfaatkan `*args` variable-length input untuk memasukkan jenis latihan.\n",
        "- Manfaatkan function yang telah dibuat sebelumnya untuk mengitung kalori terbakar di setiap sesi\n",
        "\n",
        "Contoh:\n",
        "```\n",
        ">>> input: total_session_burned_cal('berenang', 'bersepeda', each_session_duration=10)\n",
        ">>> output: 200\n",
        "\n",
        "penjelasan:\n",
        "kegiatan berenang dilakukan 10 menit dan kegiatan bersepeda dilakukan 10 menit dapat membakar total 200 kalori\n",
        "\n",
        ">>> input: total_session_burned_cal('berenang', 'berlari', 'bersepeda', each_session_duration=5)\n",
        ">>> output: 150\n",
        "\n",
        "penjelasan:\n",
        "kegiatan berenang, berlari dan bersepeda yang masing-masing dilakukan 5 menit dapat membakar 150 kalori.\n",
        "```"
      ],
      "metadata": {
        "id": "uVYOZdpMaRC6"
      }
    },
    {
      "cell_type": "code",
      "source": [
        "# code here"
      ],
      "metadata": {
        "id": "OHs41ThP3ze-"
      },
      "execution_count": null,
      "outputs": []
    },
    {
      "cell_type": "markdown",
      "source": [
        "#### 3. Lakukan Unit Testing pada kedua function yang telah dibuat.\n",
        "\n",
        "  ***Notes:***\n",
        "  \n",
        "  Pengujian Unit testing dapat dilakukan pada cell .ipynb dengan cara:\n",
        "- Cukup buat cell baru dan tulis code kerangka unit test di cell tersebut dan jalankan langsung di cell tanpa menggunakan if __name__()=='__main__'.\n",
        "\n",
        "- Sebagai pengganti idiom ini:\n",
        "```\n",
        "`if __name__=='__main__'`:\n",
        "   unittest.main()\n",
        "```\n",
        "dapat menggunakan:\n",
        "```\n",
        "unittest.main(argv=[''], exit=False)\n",
        "```"
      ],
      "metadata": {
        "id": "rvST1Pn9h6QX"
      }
    },
    {
      "cell_type": "code",
      "source": [
        "# code here"
      ],
      "metadata": {
        "id": "-uZD75JH31-Y"
      },
      "execution_count": null,
      "outputs": []
    }
  ]
}